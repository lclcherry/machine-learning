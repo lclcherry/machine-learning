{
 "cells": [
  {
   "cell_type": "code",
   "execution_count": 6,
   "metadata": {},
   "outputs": [
    {
     "name": "stdout",
     "output_type": "stream",
     "text": [
      "[-0.02190344  0.55161428  0.24592468  0.57951738  0.46062012  0.13408465\n",
      "  0.48075937  0.24183586  0.46817389  0.66277806  0.95724889  1.0663803\n",
      "  0.42498418]\n",
      "0.388840345853\n"
     ]
    },
    {
     "data": {
      "image/png": "[encoded data removed]",
      "text/plain": [
       "<matplotlib.figure.Figure at 0xd120a20>"
      ]
     },
     "metadata": {},
     "output_type": "display_data"
    }
   ],
   "source": [
    "\n",
    "from sklearn.datasets import load_svmlight_file\n",
    "from sklearn.model_selection import train_test_split\n",
    "import matplotlib.pyplot as plt\n",
    "import numpy as np\n",
    "import random\n",
    "\n",
    "def get_data():\n",
    "    data = load_svmlight_file(\"F:\\BaiduNetdiskDownload\\machinelearning\\housing_scale.txt\")\n",
    "    return data[0], data[1]\n",
    "\n",
    "def f(x, w, b):\n",
    "    f_result = 0 #b\n",
    "    x = np.ndarray.tolist(x)\n",
    "    for i in range(len(x[0])):\n",
    "        f_result += x[0][i] * w[i]   #y=wx+b\n",
    "    f_result += b\n",
    "    return f_result\n",
    "\n",
    "def accuracy(w, b, x_test, y_test):\n",
    "    x = np.ndarray.tolist(x_test)\n",
    "    right_num = 0\n",
    "    for i in range(len(x[0])):\n",
    "        result = f(x_test[i, :], w, b)\n",
    "        # print result\n",
    "        if result > 0 and y_val[i] == 1 or result < 0 and y_test[i] == -1:\n",
    "            right_num += 1\n",
    "    return float(right_num) / float(len(x[0]))\n",
    "#accuracy=correct/total\n",
    "\n",
    "\n",
    "x,y=get_data()\n",
    "x_train, x_test, y_train, y_test = train_test_split(x,y, test_size = 0.33,random_state=42)\n",
    "#print(x)\n",
    "#print(y)\n",
    "b = random.random() #random\n",
    "#w = np.random.rand(14)\n",
    "w=np.random.rand(13)\n",
    "lr=0.02\n",
    "feature=13\n",
    "x_train = x_train.todense()\n",
    "x_test = x_test.todense()\n",
    "x_train_len=len(x_train)\n",
    "x_test_len=len(x_test)\n",
    "loss = 1/(2*feature) * sum([(f(x_train[i,:],w,b) - y_train[i])**2 for i in range(feature)])\n",
    "\n",
    "count = 0\n",
    "train_loss = []\n",
    "test_loss = []\n",
    "while True:\n",
    "    for i in range(feature):\n",
    "        gradient_averange = sum([(f(x_train[k,:],w,b)-y_train[k])*x_train[k,i] for k in range (x_train_len)])/x_train_len\n",
    "        w[i] -= gradient_averange * lr\n",
    "    \n",
    "    train_new_loss = 1/(2**feature) * sum([(f(x_train[i,:],w,b) - y_train[i])**2 for i in range(feature)])\n",
    "    test_new_loss  = 1/(2**feature) * sum([(f(x_test[i,:],w,b) - y_test[i])**2 for i in range(feature)])\n",
    "    if abs(loss - train_new_loss) > 0.00001:\n",
    "        loss = train_new_loss\n",
    "    else:\n",
    "        break\n",
    "    train_loss.append(loss)\n",
    "    test_loss.append(test_new_loss)\n",
    "    count += 1\n",
    "    if count>50:\n",
    "        break\n",
    "print(w)\n",
    "print(b)\n",
    "plt.figure(figsize=(8,6))\n",
    "plt.xlabel('Gradient descent - Iteration times')\n",
    "plt.ylabel('Loss')\n",
    "plt.plot(range(count), train_loss, 'o-', label=u\"Training Set\")\n",
    "plt.plot(range(count), test_loss, 'r-', label=u\"Testing set\")\n",
    "plt.legend()\n",
    "plt.grid()\n",
    "plt.show()\n",
    "\n",
    "\n",
    "\n",
    "\n",
    "\n",
    "\n",
    "\n",
    "\n",
    "\n",
    "\n",
    "\n",
    "\n",
    "\n",
    "\n",
    "\n",
    "\n",
    "\n",
    "\n",
    "\n",
    "\n"
   ]
  },
  {
   "cell_type": "code",
   "execution_count": null,
   "metadata": {},
   "outputs": [],
   "source": []
  }
 ],
 "metadata": {
  "kernelspec": {
   "display_name": "Python 2",
   "language": "python",
   "name": "python2"
  },
  "language_info": {
   "codemirror_mode": {
    "name": "ipython",
    "version": 2
   },
   "file_extension": ".py",
   "mimetype": "text/x-python",
   "name": "python",
   "nbconvert_exporter": "python",
   "pygments_lexer": "ipython2",
   "version": "2.7.13"
  }
 },
 "nbformat": 4,
 "nbformat_minor": 2
}
